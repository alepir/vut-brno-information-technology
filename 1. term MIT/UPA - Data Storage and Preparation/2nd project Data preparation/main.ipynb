{
 "cells": [
  {
   "cell_type": "markdown",
   "metadata": {},
   "source": [
    "# Příprava dat a jejich popisná charakteristika\n",
    "\n",
    "## Autoři:\n",
    "    - Vojtěch Kulíšek\n",
    "    - Lukáš Plevač    \n",
    "    - Pavel Šesták\n",
    "\n",
    "## Zadání\n",
    "Z dostupných datových sad si zvolte jednu datovou sadu, kterou se budete dále zabývat. Stáhněte si zvolenou datovou sadu z uvedeného zdroje a prostudujte si dostupné informace k této datové sadě.\n",
    "Proveďte explorativní analýzu zvolené datové sady. Pro každý následující bod implementujte odpovídající sekci ve zdrojovém kódu a zjištěné výsledky popište v dokumentaci:\n",
    "prozkoumejte jednotlivé atributy datové sady, jejich typ a hodnoty, kterých nabývají (počet hodnot, nejčastější hodnoty, rozsah hodnot atd.)\n",
    "prozkoumejte rozložení hodnot jednotlivých atributů pomocí vhodných grafů, zaměřte se i na to, jak hodnota jednoho či dvou atributů ovlivní rozložení hodnot jiného atributu. Do dokumentace vložte alespoň 5 různých grafů, zobrazujících zjištěná rozložení hodnot. Použijte různé typy grafů (např. bodový graf, histogram, krabicový nebo houslový graf, graf složený z více podgrafů apod.).\n",
    "zjistěte, zda zvolená datová sada obsahuje nějaké odlehlé hodnoty.\n",
    "proveďte podrobnou analýzu chybějící hodnot (celkový počet chybějících hodnot, počet objektů s více chybějícími hodnotami atd.).\n",
    "proveďte korelační analýzu numerických atributů (k analýze využijte i grafy a korelační koeficienty).\n",
    "Připravte 2 varianty datové sady vhodné pro dolovací algoritmy. Můžete uvažovat dolovací úlohu uvedenou u datové sady nebo navrhnout vlastní dolovací úlohy. V případě vlastní dolovací úlohy ji specifikujte v dokumentaci. V rámci přípravy datové sady proveďte následující kroky:\n",
    "Odstraňte z datové sady atributy, které jsou pro danou dolovací úlohu irelevantní.\n",
    "Vypořádejte se s chybějícími hodnotami. Pro odstranění těchto hodnot využijte alespoň dvě různé metody pro odstranění chybějících hodnot.\n",
    "Vypořádejte se s odlehlými hodnotami, jsou-li v datové sadě přítomny.\n",
    "Pro jednu variantu datové sady proveďte diskretizaci numerických atributů tak, aby výsledná datová sada byla vhodná pro algoritmy, které vyžadují na vstupu kategorické atributy.\n",
    "Pro druhou variantu datové sady proveďte vhodnou transformaci kategorických atributů na numerické atributy. Dále pak proveďte normalizaci numerických atributů, které má smysl normalizovat. Výsledná datová sada by měla být vhodná pro metody vyžadující numerické vstupy."
   ]
  },
  {
   "cell_type": "code",
   "execution_count": null,
   "metadata": {},
   "outputs": [],
   "source": [
    "import subprocess\n",
    "import sys\n",
    "import os\n",
    "requirementsPath = os.path.join(os.path.dirname(os.path.realpath('__file__')),\"requirements.txt\")\n",
    "subprocess.check_call([sys.executable, \"-m\", \"pip\", \"install\", \"-r\", requirementsPath])\n",
    "import numpy as np\n",
    "import matplotlib.pyplot as plt\n",
    "import seaborn as sn\n",
    "import pandas as pd\n",
    "from sklearn.linear_model import LinearRegression\n",
    "import re\n",
    "from scipy import stats\n",
    "\n",
    "import warnings\n",
    "warnings.filterwarnings('ignore')\n",
    "\n",
    "PLOT_GRAPHS = True\n",
    "PLOT_STATS = True"
   ]
  },
  {
   "cell_type": "markdown",
   "metadata": {},
   "source": [
    "## Explorační analýza\n",
    "V této části se blíže seznámíme s daty, které máme dále upravovat. V rámcí modelu CRISP-DM jsme v sekci pochopení dat. Pro tuto úlohu jsme si zvolili datovou sadu z průzkumu platů v IT sektoru z roků 2018 až 2020. Dále budeme pracovat pouze s nejnovějšími daty z roku 2020 jelikož ekonomická situace je v dnešní době velmi dynamická a už tak se jedná o stará data. Starší data můžeme dále použít pro validaci našich klasifikátorů a porovnat jak moc se datové sady vzájemně liší.\n",
    "\n",
    "### Načtení datových souborů\n",
    "V této sekci si nahrajeme zvolený datový soubor do operační paměti pomocí knihovny pandas. Z datové odstraníme atributy, které zjevně nepocházejí od uživatele jako je například časová značka. Jelikož jsou to data z dotazníku, tak některé otázky jsou rozsáhle popsány, aby uživatel věděl co přesně má vyplnit, pro naše účely si tyto sloupce přejmenujeme, aby se s daty dále lépe pracovalo."
   ]
  },
  {
   "cell_type": "code",
   "execution_count": null,
   "metadata": {},
   "outputs": [],
   "source": [
    "pd.set_option('display.max_columns', None)\n",
    "pd.set_option('display.max_rows', None)\n",
    "\n",
    "\n",
    "FILES = [\"data/IT_Salary_Survey_EU_2018.csv\", \"data/IT_Salary_Survey_EU_2019.csv\", \"data/IT_Salary_Survey EU_2020.csv\"]\n",
    "\n",
    "data = pd.read_csv(FILES[2])\n",
    "\n",
    "if \"Timestamp\" in data:\n",
    "    data.drop([\"Timestamp\"], axis=1, inplace=True)\n",
    "\n",
    "if \"Zeitstempel\" in data:\n",
    "    data.drop([\"Zeitstempel\"], axis=1, inplace=True)\n",
    "\n",
    "if \"0\" in data:\n",
    "    data.drop([\"0\"], axis=1, inplace=True)\n",
    "\n",
    "data.rename(columns = {\n",
    "    \"Your main technology / programming language\":'Main Technology',\n",
    "    \"Other technologies/programming languages you use often\" : \"Other technologies\",\n",
    "    \"Yearly brutto salary (without bonus and stocks) in EUR\": \"Yearly brutto\",\n",
    "    \"Annual bonus+stocks one year ago. Only answer if staying in same country\" : \"Bonus and stocks in same country\",\n",
    "    \"Have you lost your job due to the coronavirus outbreak?\" : \"Job lost due covid\",\n",
    "    \"Have you received additional monetary support from your employer due to Work From Home? If yes, how much in 2020 in EUR\" : \"Home office compensation\",\n",
    "    \"Position \" : \"Position\",\n",
    "    }, inplace = True)\n",
    "\n",
    "data.sample(10)"
   ]
  },
  {
   "cell_type": "code",
   "execution_count": null,
   "metadata": {},
   "outputs": [],
   "source": [
    "#pd.plotting.parallel_coordinates(data, \"Your level\")\n",
    "#plt.show()\n",
    "#note1 i found whole line with NaN filter it"
   ]
  },
  {
   "cell_type": "code",
   "execution_count": null,
   "metadata": {},
   "outputs": [],
   "source": [
    "def plot_graphs(data: pd.DataFrame) -> None:\n",
    "    \"\"\"\n",
    "    Get pandas dataframe. Describe and plot graphs for all columns in dataframe.\n",
    "    \n",
    "    PRE CONDITION: If you want just text info about params specify PLOT_STATS. If you want pyplot graphs as output define constant PLOT_GRAPHS to True.\n",
    "    \"\"\"\n",
    "    if not PLOT_STATS and not PLOT_GRAPHS:\n",
    "        return\n",
    "    columns = data.columns\n",
    "\n",
    "    dtypes = data.dtypes\n",
    "\n",
    "    for column in columns:\n",
    "\n",
    "        print(data[column].describe())\n",
    "        \n",
    "        if not PLOT_GRAPHS:\n",
    "            continue\n",
    "\n",
    "        figure, axes = plt.subplots(nrows=1, ncols=2, figsize=(12, 5))\n",
    "        figure.suptitle(\"Data for: \"+ column, fontsize=15)\n",
    "        axes[0].set_title(\"NaN values\", fontsize=12)\n",
    "\n",
    "        IsNan = data[column].isna().sum()\n",
    "        IsNotNan = len(data[column])-IsNan\n",
    "        axes[0].bar(\"Unfilled\", IsNan)\n",
    "        axes[0].bar(\"Filled\", IsNotNan)\n",
    "        axes[1].set_title(\"Data distribution\", fontsize=12)\n",
    "\n",
    "        if dtypes[column] == \"object\":\n",
    "            data[column].value_counts().plot(kind='bar')\n",
    "        elif dtypes[column] == \"float64\":\n",
    "            data[column].plot(kind='box')\n",
    "\n",
    "        plt.show()\n",
    "\n",
    "plot_graphs(data)"
   ]
  },
  {
   "cell_type": "markdown",
   "metadata": {},
   "source": [
    "Z vygenerovaných grafů je vidět, že většina dat je vyplněná. V případě, že chybí v jistém sloupci mnoho dat tak se jedná většinou o věci jako bonusy, různé kompenzace a podobně. U těchto atributů se dá předpokládat, že když například uživatel nedostal kompenzaci za práci z domu tak položku nevyplnil. Pro další práci s datovou sadou si podrobně projdeme datové sloupce a zjistíme jaké konkrétní chyby se vyskytují v datové sadě, aby jsme se na ně mohli soustředit v další části čištění dat.\n",
    "\n",
    "#### Age\n",
    "Většina hodnot je vyplněná. Dokonce jsou i v rozumném rozpětí, kde většina respondentů je ve věku 30 až 35 let. Jedná se o numerický atribut.\n",
    "\n",
    "#### Gender\n",
    "Pohlaví také většina respondentů vyplnila a je rozděleno do tří kategorií, zde nebude nutné nějaké významné čištění, jen doplníme chybějící hodnoty nejčastější hodnotou. Jelikož se jedná o datovou sadu z technického oboru, tak není překvapující, že rozložení pohlaví je výrazně nevyvážené.\n",
    "\n",
    "#### City\n",
    "Tento kategorický atribut bude potřeba pro další práci nějak shluknout. Podle hodnot je zřejmé, že sběr dat pochází z Německa.\n",
    "\n",
    "#### Position\n",
    "Tento kategorický atribut bude také pro další práci potřeba vyčistit, konkrétně odfiltrovat hodnoty s nízkou četností.\n",
    "\n",
    "#### Total years of experience\n",
    "Tento zřejmě numerický atribut byl knihovnou pandas interpretován jako kategorický z důvodu pár textových odpovědí. Pro naši další práci bude potřeba převést na numerický a textové odpovědi vyfiltrovat.\n",
    "\n",
    "#### Years of experience in Germany\n",
    "Stejný případ jako u Total years of experience.\n",
    "\n",
    "#### Seniority level\n",
    "Kategorický atribut, který se zjevně rozpadá do čtyř kategorií a dále mnoho odlehlých hodnot, které můžeme nejspíše shluknout.\n",
    "\n",
    "#### Main Technology\n",
    "Pro nás se jedná o velmi významný sloupec, bohužel je velmi nešťastně zadaný. Pro naši další práci rozdělíme řetězce na jednotlivé technologie a zobrazíme si jejich histogram, z kterého vyčteme nejvíce používané technologie.\n",
    "\n",
    "#### Other technologies\n",
    "Obdobný problém jako u main technology jen zde se uživatelé rozepsali ještě více a zde se jedná v této formě již o úplně nepoužitelný atribut\n",
    "\n",
    "#### Yearly brutto\n",
    "Numerický atribut, z kterého zatím bohužel nic nevyčteme jelikož obsahuje dost výraznou anomálii, které se před další prací budeme muset zbavit.\n",
    "\n",
    "#### Yearly bonus + stocks in EUR\n",
    "Zjevně numerický atribut, který je interpretován jako kategorický. Bude nutné převést na numerický. Mnoho nezadaných hodnot, ale z podstaty věci se dá předpokládat, že když někdo nevyplní bonus tak žádný nemá.\n",
    "\n",
    "#### Annual brutto salary one year ago.\n",
    "Roční plat před jedním rokem, opět graf zatížen odlehlou hodnotou, kterou bude potřeba vyfiltrovat.\n",
    "\n",
    "#### Bonus and stocks in same country\n",
    "Obdobně jako u Yearly bonus + stocks in EUR.\n",
    "\n",
    "#### Number of vacation days\n",
    "Bude nutné převést na numerický atribut, jelikož naše datová sada obsahuje většinu lidí co jsou zaměstnanci tak chybějící hodnoty budeme doplňovat střední hodnotou.\n",
    "\n",
    "#### Employment status\n",
    "Většina respondentů jsou zaměstnanci na plný úvazek. Můžeme pouze očistit o málo frekventované kategorie, zde jich ale naštěstí není tolik.\n",
    "\n",
    "#### Contract duration\n",
    "Většina smluv je na dobu neurčitou. Vydíme jednu odlehlou hodnotu 0, které by bylo vhodné se zbavit a pár chybějících hodnot, které si můžeme v tomhle sloupci dovolit nahradit nejčetnější hodnotou, jelikož jasně převládá a chybějících hodnot je málo.\n",
    "\n",
    "#### Main language at work\n",
    "Kategorický atribut, kde převládají dvě hodnoty. Zbytek je možno rozdělit separátorem a případně oddělat nesmyslné hodnoty.\n",
    "\n",
    "#### Company size\n",
    "Nezašumělý kategorický atribut, kde pár chybějících hodnot můžeme nahradit nejčetnější hodnotou.\n",
    "\n",
    "#### Company type\n",
    "Mnoho hodnot v tomto kategorickém atributu má malý výskyt. Dominují zde tři kategorie a zbytek bude vhodné shluknout.\n",
    "\n",
    "#### Job lost due covid\n",
    "Zjevně binární atribut, který obsahuje mnoho slovních odpovědí, bude nutné očistit.\n",
    "\n",
    "#### Have you been forced to have a shorter working week\n",
    "Mnoho chybějících hodnot, šlo by z tohoto vyčíst průměrnou dobu v práci, proto chybějící hodnoty nahradíme 40ti hodinami jako standardní pracovní týden, což je asi výchozí hodnota a člověk který nemá zkrácený pracovní úvazek tuto hodnotu zřejmě ignoroval.\n",
    "\n",
    "#### Home office compensation\n",
    "Další zjevně numerický atribut, který bude potřeba očistit od slovních hodnot.\n"
   ]
  },
  {
   "cell_type": "markdown",
   "metadata": {},
   "source": [
    "### Korelační analýza\n",
    "korelační analýza slouží pro hledání podobností mezi atributy. Když najdeme silnější korelaci mezi atributy, tak můžeme využít regresi pro dopočítání chybějících hodnot mezi takto korelovanými atributy a daný odhad bude daleko přesnější než například medián ze souboru. Korelační analýza pracuje nad numerickými atributy. Jak jsme si ukázali při analýze datových atributů tak mnoho numerických je interpretováno jako kategorické atributy z důvodu například nějaké textové odpovědi. Takto detekované atributy si pomocí knihovny pandas převedeme na numerické, kde špatné hodnoty převedeme na NaN."
   ]
  },
  {
   "cell_type": "code",
   "execution_count": null,
   "metadata": {},
   "outputs": [],
   "source": [
    "#\n",
    "data['Total years of experience'] = pd.to_numeric(data['Total years of experience'], errors=\"coerce\")\n",
    "data['Age'] = pd.to_numeric(data['Age'], errors=\"coerce\")\n",
    "data['Years of experience in Germany'] = pd.to_numeric(data['Years of experience in Germany'], errors=\"coerce\")\n",
    "data['Yearly bonus + stocks in EUR'] = pd.to_numeric(data['Yearly bonus + stocks in EUR'], errors=\"coerce\")\n",
    "data['Bonus and stocks in same country'] = pd.to_numeric(data['Bonus and stocks in same country'], errors=\"coerce\")\n",
    "data['Number of vacation days'] = pd.to_numeric(data['Number of vacation days'], errors=\"coerce\")\n",
    "data['Home office compensation'] = pd.to_numeric(data['Home office compensation'], errors=\"coerce\")\n",
    "\n",
    "data.sample(5)"
   ]
  },
  {
   "cell_type": "code",
   "execution_count": null,
   "metadata": {},
   "outputs": [],
   "source": [
    "cov_matrix = data.corr('spearman')#pd.DataFrame.corr(data)\n",
    "#print(cov_matrix)\n",
    "sn.heatmap(cov_matrix, annot=True)\n",
    "plt.show()"
   ]
  },
  {
   "cell_type": "markdown",
   "metadata": {},
   "source": [
    "Z heat mapy můžeme vidět závislosti mezi věkem a odpracovanými roky což je pochopitelné a tuto závislost tedy budeme moci využít.\n",
    "Další silná závislost je mezi sloupci ohledně investic, které takto dopočítávat ale nebudeme."
   ]
  },
  {
   "cell_type": "markdown",
   "metadata": {},
   "source": [
    "## Přípravy datové sady\n",
    "Máme za sebou explorativní analýzu, v které jsme identifikovali jisté nedostatky v datové sadě. Nyní se pokusíme data očistit a doplnit.\n",
    "### Ořezání prázdných záznamů a odfiltrování neužitečných atributů\n",
    "Zde odstraníme neužitečné atributy a zahodíme záznamy, které obsahují míň jak šest vyplněných hodnot, jelikož takové záznamy mají malou přídanou hodnotu pro datovou sadu a mnoho dat by bylo bráno jako průměr či nějak korelováno. \n"
   ]
  },
  {
   "cell_type": "code",
   "execution_count": null,
   "metadata": {},
   "outputs": [],
   "source": [
    "data2 = data\n",
    "if \"Timestamp\" in data.columns:\n",
    "    data2 = data.drop('Timestamp', axis=1)\n",
    "\n",
    "if 'Are you getting any Stock Options?' in data2.columns:\n",
    "    data2 = data2.drop('Are you getting any Stock Options?', axis=1)\n",
    "\n",
    "\n",
    "print(\"Records: \",len(data2))\n",
    "data2 = data2.dropna(thresh=6)\n",
    "\n",
    "print(\"Records: \",len(data2))"
   ]
  },
  {
   "cell_type": "markdown",
   "metadata": {},
   "source": [
    "### Dopočítání chybějících hodnot\n",
    "V této části se pokusíme doplnit do datové sady chybějící hodnoty pomocí různých přístupů. Kde půjde odhadnout hodnotu na základě vysoké korelace s jiným atributem tak využijeme regresi. U sloupců, kde to dává smysl tak použijeme střední hodnotu. Jsou sloupce kde můžeme očekávat, že není vyplněno jelikož se to daného respondenta netýkalo (například chybějící položka bonusy ve firmě, tak zřejmě žádné bonusy nemá).\n",
    "\n",
    "\n",
    "#### Tvorba regresních prediktorů\n",
    "Zde vytvoříme prediktory pro korelované atributy. Jako trénovací data vezmeme všechny záznamy bez chybějících hodnot."
   ]
  },
  {
   "cell_type": "code",
   "execution_count": null,
   "metadata": {},
   "outputs": [],
   "source": [
    "\n",
    "#convert object types to float, errors coerce specified if its not a numeric type replace with NaN\n",
    "data2['Total years of experience'] = pd.to_numeric(data2['Total years of experience'], errors=\"coerce\")\n",
    "data2['Age'] = pd.to_numeric(data2['Age'], errors=\"coerce\")\n",
    "\n",
    "dataLearn = data2.dropna()\n",
    "\n",
    "AgePredict = LinearRegression()\n",
    "AgePredict = AgePredict.fit(dataLearn[['Total years of experience']].values, dataLearn[['Age']].values)\n",
    "\n",
    "YearOfExperiencePredict = LinearRegression()\n",
    "YearOfExperiencePredict = YearOfExperiencePredict.fit(dataLearn[['Age']].values, dataLearn[['Total years of experience']].values)\n",
    "\n",
    "\n",
    "YearOfExperienceInGermanyPredict = LinearRegression()\n",
    "YearOfExperienceInGermanyPredict = YearOfExperienceInGermanyPredict.fit(dataLearn[['Total years of experience']].values, dataLearn[['Years of experience in Germany']].values)\n",
    "\n",
    "\n",
    "\n",
    "YearScore = YearOfExperiencePredict.score(dataLearn[['Age']].values, dataLearn[['Total years of experience']].values)\n",
    "print(YearScore)\n",
    "\n",
    "x = np.linspace(0, 30, 30)\n",
    "plt.plot(dataLearn['Total years of experience'], dataLearn['Age'], 'o')\n",
    "\n",
    "AgeScore = AgePredict.score(dataLearn[['Total years of experience']].values, dataLearn[['Age']].values)\n",
    "print(AgeScore)\n",
    "\n",
    "diabetes_y_pred = AgePredict.predict(np.array([x]).T)\n",
    "\n",
    "\n",
    "plt.plot(x, diabetes_y_pred, color=\"red\", linewidth=3)"
   ]
  },
  {
   "cell_type": "code",
   "execution_count": null,
   "metadata": {},
   "outputs": [],
   "source": [
    "salaryColumnName = \"\"\n",
    "\n",
    "if \"Current Salary\" in dataLearn:\n",
    "    salaryColumnName = \"Current Salary\"\n",
    "elif \"Yearly brutto\" in dataLearn:\n",
    "    salaryColumnName = \"Yearly brutto\"\n",
    "\n",
    "AgePredictDependsOnSalary = LinearRegression()\n",
    "AgePredictDependsOnSalary = AgePredictDependsOnSalary.fit(dataLearn[[salaryColumnName]].values, dataLearn[['Age']].values)\n",
    "\n",
    "x = np.linspace(0, 175000, 175000)\n",
    "plt.plot(dataLearn[salaryColumnName], dataLearn['Age'], 'o')\n",
    "\n",
    "AgePredictDependsOnSalary.score(dataLearn[[salaryColumnName]].values, dataLearn[['Age']].values)\n",
    "\n",
    "\n",
    "diabetes_y_pred = AgePredictDependsOnSalary.predict(np.array([x]).T)\n",
    "plt.plot(x, diabetes_y_pred, color=\"red\", linewidth=3)"
   ]
  },
  {
   "cell_type": "markdown",
   "metadata": {},
   "source": [
    "Tento prediktor se snažil naučit vztah mezi věkem a platem. Jak vidíme tak zde nějak silný vztah neexistuje. Použití takového prediktoru by vedlo k chybám.\n",
    "\n",
    "### Doplnění nekorelovaných atributů"
   ]
  },
  {
   "cell_type": "code",
   "execution_count": null,
   "metadata": {},
   "outputs": [],
   "source": [
    "data2.loc[data2['Yearly bonus + stocks in EUR'].isna(), 'Yearly bonus + stocks in EUR'] = 0\n",
    "data2.loc[data2['Bonus and stocks in same country'].isna(), 'Bonus and stocks in same country'] = 0\n",
    "data2.loc[data2['Number of vacation days'].isna(), 'Number of vacation days'] = data2['Number of vacation days'].mode()[0]\n",
    "data2.loc[data2['Job lost due covid'].isna(), 'Job lost due covid'] = \"No\"\n",
    "data2.loc[data2['Home office compensation'].isna(), 'Home office compensation'] = 0\n",
    "data2.loc[data2['Have you been forced to have a shorter working week (Kurzarbeit)? If yes, how many hours per week'].isna(), 'Have you been forced to have a shorter working week (Kurzarbeit)? If yes, how many hours per week'] = 40 #standard hours per week\n",
    "data2.loc[data2['Have you been forced to have a shorter working week (Kurzarbeit)? If yes, how many hours per week'] == 0, 'Have you been forced to have a shorter working week (Kurzarbeit)? If yes, how many hours per week'] = 40 #standard hours per week\n",
    "data2.loc[data2['Gender'].isna(), 'Gender'] = data2['Gender'].mode()[0]\n",
    "data2.loc[data2['City'].isna(), 'City'] = data2['City'].mode()[0]\n",
    "data2.loc[data2['Seniority level'].isna(), 'Seniority level'] = data2['Seniority level'].mode()[0]\n",
    "data2.loc[data2['Main language at work'].isna(), 'Main language at work'] = data2['Main language at work'].mode()[0]\n",
    "data2.loc[data2['Company size'].isna(), 'Company size'] = data2['Company size'].mode()[0]\n",
    "data2.loc[data2['Company type'].isna(), 'Company type'] = data2['Company type'].mode()[0]\n",
    "\n",
    "\n",
    "data2.loc[data2['Employment status'].isna(), 'Employment status'] = data2['Employment status'].mode()[0]\n",
    "data2.loc[data2['Сontract duration'].isna(), 'Сontract duration'] = data2['Сontract duration'].mode()[0]\n",
    "\n",
    "data2.drop(data2.loc[data2[\"Main Technology\"].isna()].index, inplace=True)\n",
    "data2.drop(data2.loc[data2[\"Other technologies\"].isna()].index, inplace=True)\n",
    "\n"
   ]
  },
  {
   "cell_type": "markdown",
   "metadata": {},
   "source": [
    "### Doplnění korelovaných atributů pomocí prediktorů"
   ]
  },
  {
   "cell_type": "code",
   "execution_count": null,
   "metadata": {},
   "outputs": [],
   "source": [
    "data2.loc[data2['Age'].isna() & data2['Total years of experience'].notna(), 'Age'] = \\\n",
    "data2.loc[data2['Age'].isna() & data2['Total years of experience'].notna(), 'Total years of experience'].apply(lambda exp : np.round(AgePredict.predict([[exp]]))[0][0])\n",
    "\n",
    "data2 = data2.drop(data2.loc[data2['Age'].isna() & data2['Total years of experience'].isna()].index)"
   ]
  },
  {
   "cell_type": "code",
   "execution_count": null,
   "metadata": {},
   "outputs": [],
   "source": [
    "data2.loc[data2['Years of experience in Germany'].isna() & data2['Total years of experience'].notna(), 'Years of experience in Germany'] = \\\n",
    "data2.loc[data2['Years of experience in Germany'].isna() & data2['Total years of experience'].notna(), 'Total years of experience'].apply(lambda exp : np.round(YearOfExperienceInGermanyPredict.predict([[exp]]))[0][0])\n",
    "\n",
    "data2 = data2.drop(data2.loc[data2['Years of experience in Germany'].isna() & data2['Total years of experience'].isna()].index)"
   ]
  },
  {
   "cell_type": "markdown",
   "metadata": {},
   "source": [
    "#### agregace pozice\n",
    "Zde se snažíme snížit počet různých kategorií pro pozici"
   ]
  },
  {
   "cell_type": "code",
   "execution_count": null,
   "metadata": {},
   "outputs": [],
   "source": [
    "originalLenght = len(data2['Position'].unique())\n",
    "\n",
    "for i in data2.index:\n",
    "    if not pd.isnull(data2['Position'][i]):\n",
    "        data2.loc[i, 'Position'] = re.sub(\"(\\s*senior\\s*|\\s*junior\\s*|\\s*middle\\s*)\", \" \", data2['Position'][i].lower())\n",
    "        data2.loc[i, 'Position'] = re.sub(\"(^\\s*|\\s*$)\", \" \", data2['Position'][i])\n",
    "        data2.loc[i, 'Position'] = re.sub(\"\\s+\", \" \", data2['Position'][i])\n",
    "\n",
    "data2.drop(data2.loc[data2['Position'].isna()].index, inplace=True)        \n",
    "NewLenght = len(data2['Position'].unique())\n",
    "print(\"Reduced\", originalLenght-NewLenght)"
   ]
  },
  {
   "cell_type": "code",
   "execution_count": null,
   "metadata": {},
   "outputs": [],
   "source": [
    "\n",
    "data2.loc[data2['Total years of experience'].isna() & data2['Age'].notna(), 'Total years of experience'] = \\\n",
    "data2.loc[data2['Total years of experience'].isna() & data2['Age'].notna(), 'Age'].apply(lambda age : np.round(YearOfExperiencePredict.predict([[age]]))[0][0])\n",
    "\n",
    "data2.drop(data2.loc[data2['Total years of experience'].isna() & data2['Age'].isna()].index, inplace=True)\n"
   ]
  },
  {
   "cell_type": "markdown",
   "metadata": {},
   "source": [
    "#### Doplnění platu\n",
    "Zde nejspíše člověk neuvedl druhý plat, jelikož se mu plat nezměnil a přišlo mu to  zbytečné. Můžeme křížově doplnit."
   ]
  },
  {
   "cell_type": "code",
   "execution_count": null,
   "metadata": {},
   "outputs": [],
   "source": [
    "\n",
    "originalLenght = len(data2)\n",
    "\n",
    "\n",
    "currentSalary = \"Yearly brutto\"\n",
    "salaryOneYearAgo = \"Annual brutto salary (without bonus and stocks) one year ago. Only answer if staying in the same country\"\n",
    "\n",
    "\n",
    "data2.loc[data2[currentSalary].isna() & data2[salaryOneYearAgo].notna(), currentSalary] = data2.loc[data2[currentSalary].isna() & data2[salaryOneYearAgo].notna(), salaryOneYearAgo]\n",
    "data2.loc[data2[salaryOneYearAgo].isna() & data2[currentSalary].notna(), salaryOneYearAgo] = data2.loc[data2[salaryOneYearAgo].isna() & data2[currentSalary].notna(), currentSalary]\n",
    "\n",
    "data2.drop(data2.loc[data2[currentSalary].isna() & data2[salaryOneYearAgo].isna()].index, inplace=True)\n",
    "\n",
    "\n",
    "\"\"\"\n",
    "\n",
    "\n",
    "\n",
    "salaries = {\n",
    "    'Current Salary': ['Salary one year ago', 'Salary two years ago'],\n",
    "    'Salary one year ago': ['Salary two years ago', 'Current Salary'],\n",
    "    'Salary two years ago': ['Salary one year ago', 'Current Salary']\n",
    "}\n",
    "\n",
    "for i in data2.index:\n",
    "    for j in salaries.keys():\n",
    "        if pd.isnull(data2[j][i]):\n",
    "            for salary in salaries[j]:\n",
    "                if not pd.isnull(data2[salary][i]):\n",
    "                    data2.loc[i, j] = data2[salary][i]\n",
    "                    break\n",
    "\n",
    "    if pd.isnull(data2['Current Salary'][i]):\n",
    "        data2.drop(i, inplace=True)\n",
    "\n",
    "\"\"\"\n",
    "\n",
    "\n",
    "NewLenght = len(data2)\n",
    "print(\"Reduced\", originalLenght-NewLenght)"
   ]
  },
  {
   "cell_type": "code",
   "execution_count": null,
   "metadata": {},
   "outputs": [],
   "source": [
    "data2.Position.str.split(expand=True).stack().value_counts()\n",
    "'''\n",
    "print(x.keys()[0], x[0])\n",
    "\n",
    "dataLearn = data2.dropna()\n",
    "\n",
    "AgePredict = LinearRegression()\n",
    "AgePredict = AgePredict.fit(x.keys()[0], dataLearn[['Age']].values)\n",
    "\n",
    "x = np.linspace(0, 30, 30)\n",
    "plt.plot(dataLearn['Position'], dataLearn['Age'], 'o')\n",
    "\n",
    "AgeScore = AgePredict.score(x.keys()[0], dataLearn[['Age']].values)\n",
    "print(AgeScore)\n",
    "\n",
    "diabetes_y_pred = AgePredict.predict(np.array([x]).T)\n",
    "plt.plot(x, diabetes_y_pred, color=\"red\", linewidth=3)\n",
    "'''"
   ]
  },
  {
   "cell_type": "markdown",
   "metadata": {},
   "source": [
    "### Detekce anomalií\n",
    "V explorativní analýze jsme narazili na některé nečitelné numerické grafy, jelikož měřítko na ose výrazně ovlivnila odlehlá hodnota. Nyní se takovýchto hodnot pokusíme zbavit pomocí metody zscore. ta předpokládá normální rozdělení. V našem okolí se většina jevů chová podle normálního rozdělení, což nám blíže říká centrální limitní věta. V normálním rozdělení 99.7% hodnot leží v intervalu <-3 σ; 3 σ> a oproto hodnoty mimo tento interval odstraníme. "
   ]
  },
  {
   "cell_type": "code",
   "execution_count": null,
   "metadata": {},
   "outputs": [],
   "source": [
    "originalLenght = len(data2)\n",
    "\n",
    "\n",
    "#print(\"dtypes: \", data.dtypes)\n",
    "print(\"columns: \", data2.select_dtypes(include=[\"number\"]).columns)\n",
    "\n",
    "def drop_numerical_outliers(df, z_thresh=3):\n",
    "    # Constrains will contain `True` or `False` depending on if it is a value below the threshold.\n",
    "    constrains = df.select_dtypes(include=[\"number\"]) \\\n",
    "        .apply(lambda x: np.abs(stats.zscore(x)) < z_thresh) \\\n",
    "        .all(axis=1)\n",
    "    # Drop (inplace) values set to be rejected\n",
    "    df.drop(df.index[~constrains], inplace=True)\n",
    "\n",
    "drop_numerical_outliers(data2)\n",
    "\n",
    "\n",
    "\n",
    "NewLenght = len(data2)\n",
    "print(\"Reduced: \", originalLenght-NewLenght)\n",
    "data2.head()"
   ]
  },
  {
   "cell_type": "markdown",
   "metadata": {},
   "source": [
    "#### Výpis nejpoužívanějších technologií\n",
    "V explorativní analýze jsme detekovali, že mnoho lidí zadalo více technologií. Nyní se pokusíme hodnoty rozdělit a vykreslit graf četností použití technologií."
   ]
  },
  {
   "cell_type": "code",
   "execution_count": null,
   "metadata": {},
   "outputs": [],
   "source": [
    "#main technologies\n",
    "\n",
    "mainTechs = data2[\"Main Technology\"].str.split(pat=r\"[,\\/\\s]+\",expand=True).stack().value_counts()\n",
    "\n",
    "outliers = mainTechs.loc[mainTechs <= 1]\n",
    "outliersCount = mainTechs.loc[mainTechs <= 1].sum()\n",
    "\n",
    "del mainTechs['']\n",
    "\n",
    "plt.rcParams[\"figure.figsize\"] = (20,10)\n",
    "mainTechs = mainTechs.drop(mainTechs.loc[mainTechs.isin(outliers)].index)\n",
    "mainTechs[\"Other\"] = outliersCount\n",
    "\n",
    "mainTechs.plot(kind='bar')\n",
    "plt.xticks(rotation=90)"
   ]
  },
  {
   "cell_type": "code",
   "execution_count": null,
   "metadata": {},
   "outputs": [],
   "source": [
    "#other technologies\n",
    "\n",
    "otherTechs = data2[\"Other technologies\"].str.lower().str.split(pat=r\"[,\\/\\s]+\",expand=True).stack().value_counts()\n",
    "\n",
    "outliers = otherTechs.loc[otherTechs <= 1]\n",
    "outliersCount = otherTechs.loc[otherTechs <= 1].sum()\n",
    "\n",
    "del otherTechs['']\n",
    "\n",
    "otherTechs = otherTechs.drop(otherTechs.loc[otherTechs.isin(outliers)].index)\n",
    "otherTechs[\"Other\"] = outliersCount\n",
    "\n",
    "otherTechs.plot(kind='bar')\n",
    "plt.xticks(rotation=90)"
   ]
  },
  {
   "cell_type": "markdown",
   "metadata": {},
   "source": [
    "### Kontrola po čištění\n",
    "Nyní si zobrazíme očištěná data. Grafy by měli být čitelnější než v explorativní analýze."
   ]
  },
  {
   "cell_type": "code",
   "execution_count": null,
   "metadata": {},
   "outputs": [],
   "source": [
    "plot_graphs(data2)"
   ]
  },
  {
   "cell_type": "markdown",
   "metadata": {},
   "source": [
    "## Predikce platu na základě ostatních parametrů\n",
    "### Převod dat pro data miningové úlohy\n",
    "V této sekci si připravíme dvě datové sady, jedna bude obsahovat pouze numerické atributy a druhé pouze kategorické.\n",
    "Pro převod kategorického atributu na numerický použijeme kódování one hot. Tato metoda vytvoří mnoho sloupců v závislosti na počtu kategorických atributů a počtu různých hodnot. \n",
    "Toto kódování je vhodné pro strojové učení a například v našem případě se odhad pomocí regrese zlepšil díky tomuto kódování z 85% na 94%.\n",
    "\n",
    "V opačném případě, když budeme připravovat kategorickou sadu, tak musíme převést numerický atribut na kateogorie. Použijeme qcut, kde pomocí kvantilů rozdělíme na určitý počet košů. Mnoho atributů jako napřiklad bonusy mají většinu hodnot rovnou nule. Zde by nešlo použit mnoho košů. Naopak jsou atributy, které klidně můžeme rozdělit do více košů jako například věk. Proto začneme u každého atributz s větším počtem košů a budeme snižovat dokud se nám nepodaří převést (Každý koš musí mít vlastní hodnotu kvantilu)."
   ]
  },
  {
   "cell_type": "code",
   "execution_count": null,
   "metadata": {},
   "outputs": [],
   "source": [
    "nData = data2.copy(deep=True)\n",
    "\n",
    "nData[\"Other technologies\"] = data2[\"Other technologies\"].str.split(pat=r\"[,\\/\\s]+\").str.len()\n",
    "\n",
    "nData.head()"
   ]
  },
  {
   "cell_type": "markdown",
   "metadata": {},
   "source": []
  },
  {
   "cell_type": "code",
   "execution_count": null,
   "metadata": {},
   "outputs": [],
   "source": [
    "attributes = [\"Gender\", \"City\", \"Position\", \"Seniority level\", \"Main Technology\", \"Employment status\", \"Сontract duration\", \"Main language at work\", \"Company size\", \"Company type\", \"Job lost due covid\", \"Have you been forced to have a shorter working week (Kurzarbeit)? If yes, how many hours per week\", \"Home office compensation\"]\n",
    "\n",
    "one_hot = pd.get_dummies(nData)\n",
    "\n",
    "nData = one_hot\n",
    "\n",
    "nData=(nData-nData.min())/(nData.max()-nData.min())\n",
    "\n",
    "#for attr in attributes:\n",
    "#    pass\n",
    "#    nData[attr] = pd.Categorical(nData[attr])\n",
    "#    nData[attr] = nData[attr].cat.codes\n",
    "\n",
    "\n",
    "#one_hot.head()\n",
    "\n",
    "nData.head()"
   ]
  },
  {
   "cell_type": "markdown",
   "metadata": {},
   "source": [
    "### Prediction"
   ]
  },
  {
   "cell_type": "code",
   "execution_count": null,
   "metadata": {},
   "outputs": [],
   "source": [
    "def svm(dataset, target):\n",
    "    brutto = dataset[target]\n",
    "    testRegrData = dataset.drop([target], axis=1)\n",
    "\n",
    "\n",
    "    bruttoPredict = LinearRegression()\n",
    "    bruttoPredict = bruttoPredict.fit(testRegrData.values, brutto)\n",
    "\n",
    "    #x = np.linspace(0, 175000, 175000)\n",
    "    #plt.plot(dataLearn[salaryColumnName], dataLearn['Age'], 'o')\n",
    "\n",
    "    accDif = 0.0\n",
    "\n",
    "    for i in range(len(testRegrData)):\n",
    "        p = bruttoPredict.predict([testRegrData.iloc[i]])\n",
    "        br = brutto.iloc[i]\n",
    "        accDif += np.abs(p - br) \n",
    "\n",
    "    accDif /= len(testRegrData)\n",
    "\n",
    "    print(\"Average delta: \", accDif)\n",
    "\n",
    "    sc = bruttoPredict.score(testRegrData, brutto)\n",
    "    print(\"Accuraci: \", sc)\n",
    "\n",
    "svm(nData, \"Yearly brutto\")"
   ]
  },
  {
   "cell_type": "markdown",
   "metadata": {},
   "source": [
    "### Data to cat"
   ]
  },
  {
   "cell_type": "code",
   "execution_count": null,
   "metadata": {},
   "outputs": [],
   "source": [
    "cData = data2.copy(deep=True)\n",
    "\n",
    "attributes = [\"Age\", \"Total years of experience\", \"Years of experience in Germany\", \"Yearly brutto\", \"Yearly bonus + stocks in EUR\", \"Annual brutto salary (without bonus and stocks) one year ago. Only answer if staying in the same country\", \"Bonus and stocks in same country\", \"Number of vacation days\", \"Have you been forced to have a shorter working week (Kurzarbeit)? If yes, how many hours per week\", \"Home office compensation\"]\n",
    "\n",
    "for attr in attributes:\n",
    "    #print(\"attr: \", attr)\n",
    "    #print(\"attr: \", cData[attr].describe())\n",
    "\n",
    "    #cData[attr] = pd.qcut(cData[attr], q=1) #TODO... increase q need normalize  \n",
    "    \n",
    "    for q in reversed(range(5)):\n",
    "        try:\n",
    "            cData[attr] = pd.qcut(cData[attr], q=q).astype(str)\n",
    "            print(\"attr: \", attr, \" with q: \", q)\n",
    "            break\n",
    "        except:\n",
    "            continue\n",
    "        \n",
    "\n",
    "#pd.cut\n",
    "#PD.CUT(column, bins=[ ],labels=[ ])\n",
    "#pd.cut(df.Age,bins=[0,2,17,65,99],labels=[‘Toddler/Baby’,’Child’,’Adult’,’Elderly’])\n",
    "#print()\n",
    "\n",
    "#cData.head()"
   ]
  }
 ],
 "metadata": {
  "kernelspec": {
   "display_name": "Python 3",
   "language": "python",
   "name": "python3"
  },
  "language_info": {
   "codemirror_mode": {
    "name": "ipython",
    "version": 3
   },
   "file_extension": ".py",
   "mimetype": "text/x-python",
   "name": "python",
   "nbconvert_exporter": "python",
   "pygments_lexer": "ipython3",
   "version": "3.10.8"
  },
  "orig_nbformat": 4,
  "vscode": {
   "interpreter": {
    "hash": "767d51c1340bd893661ea55ea3124f6de3c7a262a8b4abca0554b478b1e2ff90"
   }
  }
 },
 "nbformat": 4,
 "nbformat_minor": 2
}
